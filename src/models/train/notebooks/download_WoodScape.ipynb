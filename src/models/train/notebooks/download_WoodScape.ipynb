{
 "cells": [
  {
   "cell_type": "markdown",
   "id": "b3bac7c5",
   "metadata": {},
   "source": [
    "## **Download Woodscape**"
   ]
  },
  {
   "cell_type": "code",
   "execution_count": 16,
   "id": "d9fbd612",
   "metadata": {},
   "outputs": [
    {
     "name": "stdout",
     "output_type": "stream",
     "text": [
      "Requirement already satisfied: gdown in ./.venv/lib/python3.12/site-packages (5.2.0)\n",
      "Requirement already satisfied: scikit-learn in ./.venv/lib/python3.12/site-packages (1.6.1)\n",
      "Collecting pyyaml\n",
      "  Using cached PyYAML-6.0.2-cp312-cp312-manylinux_2_17_x86_64.manylinux2014_x86_64.whl.metadata (2.1 kB)\n",
      "Requirement already satisfied: beautifulsoup4 in ./.venv/lib/python3.12/site-packages (from gdown) (4.13.4)\n",
      "Requirement already satisfied: filelock in ./.venv/lib/python3.12/site-packages (from gdown) (3.18.0)\n",
      "Requirement already satisfied: requests[socks] in ./.venv/lib/python3.12/site-packages (from gdown) (2.32.3)\n",
      "Requirement already satisfied: tqdm in ./.venv/lib/python3.12/site-packages (from gdown) (4.67.1)\n",
      "Requirement already satisfied: numpy>=1.19.5 in ./.venv/lib/python3.12/site-packages (from scikit-learn) (1.26.4)\n",
      "Requirement already satisfied: scipy>=1.6.0 in ./.venv/lib/python3.12/site-packages (from scikit-learn) (1.15.2)\n",
      "Requirement already satisfied: joblib>=1.2.0 in ./.venv/lib/python3.12/site-packages (from scikit-learn) (1.4.2)\n",
      "Requirement already satisfied: threadpoolctl>=3.1.0 in ./.venv/lib/python3.12/site-packages (from scikit-learn) (3.6.0)\n",
      "Requirement already satisfied: soupsieve>1.2 in ./.venv/lib/python3.12/site-packages (from beautifulsoup4->gdown) (2.7)\n",
      "Requirement already satisfied: typing-extensions>=4.0.0 in ./.venv/lib/python3.12/site-packages (from beautifulsoup4->gdown) (4.13.2)\n",
      "Requirement already satisfied: charset-normalizer<4,>=2 in ./.venv/lib/python3.12/site-packages (from requests[socks]->gdown) (3.4.2)\n",
      "Requirement already satisfied: idna<4,>=2.5 in ./.venv/lib/python3.12/site-packages (from requests[socks]->gdown) (3.10)\n",
      "Requirement already satisfied: urllib3<3,>=1.21.1 in ./.venv/lib/python3.12/site-packages (from requests[socks]->gdown) (2.4.0)\n",
      "Requirement already satisfied: certifi>=2017.4.17 in ./.venv/lib/python3.12/site-packages (from requests[socks]->gdown) (2025.4.26)\n",
      "Requirement already satisfied: PySocks!=1.5.7,>=1.5.6 in ./.venv/lib/python3.12/site-packages (from requests[socks]->gdown) (1.7.1)\n",
      "Using cached PyYAML-6.0.2-cp312-cp312-manylinux_2_17_x86_64.manylinux2014_x86_64.whl (767 kB)\n",
      "Installing collected packages: pyyaml\n",
      "Successfully installed pyyaml-6.0.2\n"
     ]
    }
   ],
   "source": [
    "! pip install gdown scikit-learn pyyaml"
   ]
  },
  {
   "cell_type": "code",
   "execution_count": 2,
   "id": "0797fade",
   "metadata": {},
   "outputs": [],
   "source": [
    "import zipfile\n",
    "import os\n",
    "import gdown\n",
    "\n",
    "def download_from_google_drive(output: str, file_id: str):\n",
    "    url = f\"https://drive.google.com/uc?id={file_id}\"\n",
    "    output_zip = f\"{output}/archive.zip\"\n",
    "\n",
    "    gdown.download(url, output_zip, quiet=False)\n",
    "\n",
    "    with zipfile.ZipFile(output_zip, 'r') as zip_ref:\n",
    "        zip_ref.extractall(output)\n",
    "    \n",
    "    os.remove(output_zip)"
   ]
  },
  {
   "cell_type": "code",
   "execution_count": 1,
   "id": "3150c361",
   "metadata": {},
   "outputs": [],
   "source": [
    "import os\n",
    "os.chdir(\"../../../..\") "
   ]
  },
  {
   "cell_type": "code",
   "execution_count": 2,
   "id": "1944a177",
   "metadata": {},
   "outputs": [
    {
     "ename": "NameError",
     "evalue": "name 'download_from_google_drive' is not defined",
     "output_type": "error",
     "traceback": [
      "\u001b[31m---------------------------------------------------------------------------\u001b[39m",
      "\u001b[31mNameError\u001b[39m                                 Traceback (most recent call last)",
      "\u001b[36mCell\u001b[39m\u001b[36m \u001b[39m\u001b[32mIn[2]\u001b[39m\u001b[32m, line 5\u001b[39m\n\u001b[32m      2\u001b[39m IMAGES_FILE_ID = \u001b[33m\"\u001b[39m\u001b[33m1xQ5J4huNmyK9WPoipHTnuZ7lw_J0xhvL\u001b[39m\u001b[33m\"\u001b[39m\n\u001b[32m      3\u001b[39m ANNOTATIONS_FILE_ID = \u001b[33m\"\u001b[39m\u001b[33m1k9q1k8rh6hghSPFdmxmkZUd_Mip6pt6F\u001b[39m\u001b[33m\"\u001b[39m\n\u001b[32m----> \u001b[39m\u001b[32m5\u001b[39m \u001b[43mdownload_from_google_drive\u001b[49m(WOODSCAPE_PATH, IMAGES_FILE_ID)\n\u001b[32m      6\u001b[39m download_from_google_drive(WOODSCAPE_PATH, ANNOTATIONS_FILE_ID)\n",
      "\u001b[31mNameError\u001b[39m: name 'download_from_google_drive' is not defined"
     ]
    }
   ],
   "source": [
    "WOODSCAPE_PATH = \"src/datasets/WoodScape\"\n",
    "IMAGES_FILE_ID = \"1xQ5J4huNmyK9WPoipHTnuZ7lw_J0xhvL\"\n",
    "ANNOTATIONS_FILE_ID = \"1k9q1k8rh6hghSPFdmxmkZUd_Mip6pt6F\"\n",
    "\n",
    "download_from_google_drive(WOODSCAPE_PATH, IMAGES_FILE_ID)\n",
    "download_from_google_drive(WOODSCAPE_PATH, ANNOTATIONS_FILE_ID)"
   ]
  },
  {
   "cell_type": "code",
   "execution_count": 3,
   "id": "244fdaaa",
   "metadata": {},
   "outputs": [],
   "source": [
    "WOODSCAPE_PATH = \"src/datasets/WoodScape\"\n",
    "\n",
    "IMAGES_PATH = f\"{WOODSCAPE_PATH}/rgb_images\"\n",
    "ANNOTATIONS_PATH = f\"{WOODSCAPE_PATH}/instance_annotations\"\n",
    "CLASSINFO_PATH = f\"{WOODSCAPE_PATH}/class_info.json\""
   ]
  },
  {
   "cell_type": "markdown",
   "id": "a295c16f",
   "metadata": {},
   "source": [
    "## **Convert Woodscape annotations to Ultralytics**"
   ]
  },
  {
   "cell_type": "code",
   "execution_count": 4,
   "id": "ed3cbeb8",
   "metadata": {},
   "outputs": [],
   "source": [
    "YOLO_ANNOTATIONS_PATH = f\"{WOODSCAPE_PATH}/yolo_annotations\""
   ]
  },
  {
   "cell_type": "code",
   "execution_count": null,
   "id": "204542aa",
   "metadata": {},
   "outputs": [
    {
     "ename": "AttributeError",
     "evalue": "module 'os' has no attribute 'rmtree'",
     "output_type": "error",
     "traceback": [
      "\u001b[31m---------------------------------------------------------------------------\u001b[39m",
      "\u001b[31mAttributeError\u001b[39m                            Traceback (most recent call last)",
      "\u001b[36mCell\u001b[39m\u001b[36m \u001b[39m\u001b[32mIn[8]\u001b[39m\u001b[32m, line 3\u001b[39m\n\u001b[32m      1\u001b[39m \u001b[38;5;28;01mfrom\u001b[39;00m\u001b[38;5;250m \u001b[39m\u001b[34;01msrc\u001b[39;00m\u001b[34;01m.\u001b[39;00m\u001b[34;01mmodels\u001b[39;00m\u001b[34;01m.\u001b[39;00m\u001b[34;01mtrain\u001b[39;00m\u001b[34;01m.\u001b[39;00m\u001b[34;01mconvert\u001b[39;00m\u001b[38;5;250m \u001b[39m\u001b[38;5;28;01mimport\u001b[39;00m convert_Woodscape_to_Ultralytics\n\u001b[32m      2\u001b[39m convert_Woodscape_to_Ultralytics(ANNOTATIONS_PATH, YOLO_ANNOTATIONS_PATH, CLASSINFO_PATH)\n\u001b[32m----> \u001b[39m\u001b[32m3\u001b[39m \u001b[43mos\u001b[49m\u001b[43m.\u001b[49m\u001b[43mrmtree\u001b[49m(ANNOTATIONS_PATH)\n",
      "\u001b[31mAttributeError\u001b[39m: module 'os' has no attribute 'rmtree'"
     ]
    }
   ],
   "source": [
    "from src.models.train.convert import convert_Woodscape_to_Ultralytics\n",
    "import shutil\n",
    "\n",
    "convert_Woodscape_to_Ultralytics(ANNOTATIONS_PATH, YOLO_ANNOTATIONS_PATH, CLASSINFO_PATH)\n",
    "shutil.rmtree(ANNOTATIONS_PATH)"
   ]
  },
  {
   "cell_type": "markdown",
   "id": "5a35d15e",
   "metadata": {},
   "source": [
    "## **Split dataset**"
   ]
  },
  {
   "cell_type": "code",
   "execution_count": 5,
   "id": "f6650db8",
   "metadata": {},
   "outputs": [],
   "source": [
    "TRAIN_DATASET = f\"{WOODSCAPE_PATH}/train_dataset\""
   ]
  },
  {
   "cell_type": "code",
   "execution_count": 12,
   "id": "ed7f3890",
   "metadata": {},
   "outputs": [],
   "source": [
    "from src.models.train.split_dataset import split_dataset\n",
    "split_dataset(IMAGES_PATH, YOLO_ANNOTATIONS_PATH, TRAIN_DATASET)"
   ]
  },
  {
   "cell_type": "code",
   "execution_count": 18,
   "id": "6bf190c0",
   "metadata": {},
   "outputs": [],
   "source": [
    "shutil.rmtree(YOLO_ANNOTATIONS_PATH)\n",
    "shutil.rmtree(IMAGES_PATH)"
   ]
  },
  {
   "cell_type": "markdown",
   "id": "b137378a",
   "metadata": {},
   "source": [
    "## **Create YAML file**"
   ]
  },
  {
   "cell_type": "code",
   "execution_count": null,
   "id": "8d1053b6",
   "metadata": {},
   "outputs": [],
   "source": [
    "import yaml\n",
    "import json\n",
    "\n",
    "with open(CLASSINFO_PATH, \"r\", encoding=\"utf-8\") as f:\n",
    "    CLASSES = json.load(f)[\"classes\"]\n",
    "\n",
    "data = {\n",
    "    \"path\": TRAIN_DATASET,\n",
    "    \"train\": \"images/train\",\n",
    "    \"val\": \"images/val\",\n",
    "    \"test\": \"images/test\",\n",
    "    \"nc\": len(CLASSES),\n",
    "    \"names\": CLASSES,\n",
    "\n",
    "    \"mask_ratio\": 2,\n",
    "    \"overlap_mask\": True,\n",
    "    \"preprocessing\": {\n",
    "        \"auto_augment\": \"none\",\n",
    "        \"erasing\": 0.0,\n",
    "        \"mosaic\": 0.5,\n",
    "        \"copy_paste\": 0.0\n",
    "    }\n",
    "}\n",
    "\n",
    "with open(f\"{WOODSCAPE_PATH}/woodscape.yaml\", \"w\") as file:\n",
    "    yaml.dump(data, file, default_flow_style=False)\n"
   ]
  }
 ],
 "metadata": {
  "kernelspec": {
   "display_name": ".venv",
   "language": "python",
   "name": "python3"
  },
  "language_info": {
   "codemirror_mode": {
    "name": "ipython",
    "version": 3
   },
   "file_extension": ".py",
   "mimetype": "text/x-python",
   "name": "python",
   "nbconvert_exporter": "python",
   "pygments_lexer": "ipython3",
   "version": "3.12.3"
  }
 },
 "nbformat": 4,
 "nbformat_minor": 5
}
