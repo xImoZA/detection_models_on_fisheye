{
 "cells": [
  {
   "cell_type": "markdown",
   "id": "b3bac7c5",
   "metadata": {},
   "source": [
    "## **Download Woodscape**"
   ]
  },
  {
   "cell_type": "code",
   "execution_count": null,
   "id": "d9fbd612",
   "metadata": {},
   "outputs": [],
   "source": [
    "! pip install gdown scikit-learn pyyaml"
   ]
  },
  {
   "cell_type": "code",
   "execution_count": 2,
   "id": "0797fade",
   "metadata": {},
   "outputs": [],
   "source": [
    "import os\n",
    "import zipfile\n",
    "\n",
    "import gdown\n",
    "\n",
    "\n",
    "def download_from_google_drive(output: str, file_id: str):\n",
    "    url = f\"https://drive.google.com/uc?id={file_id}\"\n",
    "    output_zip = f\"{output}/archive.zip\"\n",
    "\n",
    "    gdown.download(url, output_zip, quiet=False)\n",
    "\n",
    "    with zipfile.ZipFile(output_zip, \"r\") as zip_ref:\n",
    "        zip_ref.extractall(output)\n",
    "\n",
    "    os.remove(output_zip)"
   ]
  },
  {
   "cell_type": "code",
   "execution_count": 1,
   "id": "3150c361",
   "metadata": {},
   "outputs": [],
   "source": [
    "import os\n",
    "\n",
    "os.chdir(\"../../../..\")"
   ]
  },
  {
   "cell_type": "code",
   "execution_count": null,
   "id": "1944a177",
   "metadata": {},
   "outputs": [],
   "source": [
    "WOODSCAPE_PATH = \"src/datasets/WoodScape\"\n",
    "IMAGES_FILE_ID = \"1xQ5J4huNmyK9WPoipHTnuZ7lw_J0xhvL\"\n",
    "ANNOTATIONS_FILE_ID = \"1k9q1k8rh6hghSPFdmxmkZUd_Mip6pt6F\"\n",
    "\n",
    "download_from_google_drive(WOODSCAPE_PATH, IMAGES_FILE_ID)\n",
    "download_from_google_drive(WOODSCAPE_PATH, ANNOTATIONS_FILE_ID)"
   ]
  },
  {
   "cell_type": "code",
   "execution_count": 3,
   "id": "244fdaaa",
   "metadata": {},
   "outputs": [],
   "source": [
    "WOODSCAPE_PATH = \"src/datasets/WoodScape\"\n",
    "\n",
    "IMAGES_PATH = f\"{WOODSCAPE_PATH}/rgb_images\"\n",
    "ANNOTATIONS_PATH = f\"{WOODSCAPE_PATH}/instance_annotations\"\n",
    "CLASSINFO_PATH = f\"{WOODSCAPE_PATH}/class_info.json\""
   ]
  },
  {
   "cell_type": "markdown",
   "id": "a295c16f",
   "metadata": {},
   "source": [
    "## **Convert Woodscape annotations to Ultralytics**"
   ]
  },
  {
   "cell_type": "code",
   "execution_count": 4,
   "id": "ed3cbeb8",
   "metadata": {},
   "outputs": [],
   "source": [
    "YOLO_ANNOTATIONS_PATH = f\"{WOODSCAPE_PATH}/yolo_annotations\""
   ]
  },
  {
   "cell_type": "code",
   "execution_count": null,
   "id": "204542aa",
   "metadata": {},
   "outputs": [],
   "source": [
    "import shutil\n",
    "\n",
    "from src.models.train.convert import convert_Woodscape_to_Ultralytics\n",
    "\n",
    "convert_Woodscape_to_Ultralytics(\n",
    "    ANNOTATIONS_PATH, YOLO_ANNOTATIONS_PATH, CLASSINFO_PATH\n",
    ")\n",
    "shutil.rmtree(ANNOTATIONS_PATH)"
   ]
  },
  {
   "cell_type": "markdown",
   "id": "5a35d15e",
   "metadata": {},
   "source": [
    "## **Split dataset**"
   ]
  },
  {
   "cell_type": "code",
   "execution_count": 5,
   "id": "f6650db8",
   "metadata": {},
   "outputs": [],
   "source": [
    "TRAIN_DATASET = f\"{WOODSCAPE_PATH}/train_dataset\""
   ]
  },
  {
   "cell_type": "code",
   "execution_count": 12,
   "id": "ed7f3890",
   "metadata": {},
   "outputs": [],
   "source": [
    "from src.models.train.split_dataset import split_dataset\n",
    "\n",
    "split_dataset(IMAGES_PATH, YOLO_ANNOTATIONS_PATH, TRAIN_DATASET)"
   ]
  },
  {
   "cell_type": "code",
   "execution_count": 18,
   "id": "6bf190c0",
   "metadata": {},
   "outputs": [],
   "source": [
    "shutil.rmtree(YOLO_ANNOTATIONS_PATH)\n",
    "shutil.rmtree(IMAGES_PATH)"
   ]
  },
  {
   "cell_type": "markdown",
   "id": "b137378a",
   "metadata": {},
   "source": [
    "## **Create YAML file**"
   ]
  },
  {
   "cell_type": "code",
   "execution_count": null,
   "id": "8d1053b6",
   "metadata": {},
   "outputs": [],
   "source": [
    "import json\n",
    "\n",
    "import yaml\n",
    "\n",
    "with open(CLASSINFO_PATH, \"r\", encoding=\"utf-8\") as f:\n",
    "    CLASSES = json.load(f)[\"classes\"]\n",
    "\n",
    "data = {\n",
    "    \"path\": TRAIN_DATASET,\n",
    "    \"train\": \"images/train\",\n",
    "    \"val\": \"images/val\",\n",
    "    \"test\": \"images/test\",\n",
    "    \"nc\": len(CLASSES),\n",
    "    \"names\": CLASSES,\n",
    "    \"mask_ratio\": 2,\n",
    "    \"overlap_mask\": True,\n",
    "    \"preprocessing\": {\n",
    "        \"auto_augment\": \"none\",\n",
    "        \"erasing\": 0.0,\n",
    "        \"mosaic\": 0.5,\n",
    "        \"copy_paste\": 0.0,\n",
    "    },\n",
    "}\n",
    "\n",
    "with open(f\"{WOODSCAPE_PATH}/woodscape.yaml\", \"w\") as file:\n",
    "    yaml.dump(data, file, default_flow_style=False)"
   ]
  }
 ],
 "metadata": {
  "kernelspec": {
   "display_name": ".venv",
   "language": "python",
   "name": "python3"
  },
  "language_info": {
   "codemirror_mode": {
    "name": "ipython",
    "version": 3
   },
   "file_extension": ".py",
   "mimetype": "text/x-python",
   "name": "python",
   "nbconvert_exporter": "python",
   "pygments_lexer": "ipython3",
   "version": "3.12.3"
  }
 },
 "nbformat": 4,
 "nbformat_minor": 5
}
