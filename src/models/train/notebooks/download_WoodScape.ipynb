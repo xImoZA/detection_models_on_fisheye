{
 "cells": [
  {
   "cell_type": "markdown",
   "id": "b3bac7c5",
   "metadata": {},
   "source": [
    "## **Download Woodscape**"
   ]
  },
  {
   "cell_type": "code",
   "execution_count": 1,
   "id": "d9fbd612",
   "metadata": {},
   "outputs": [
    {
     "name": "stdout",
     "output_type": "stream",
     "text": [
      "Requirement already satisfied: gdown in /home/sashka/detection_models_on_fisheye/.venv/lib/python3.12/site-packages (5.2.0)\n",
      "Requirement already satisfied: scikit-learn in /home/sashka/detection_models_on_fisheye/.venv/lib/python3.12/site-packages (1.6.1)\n",
      "Requirement already satisfied: pyyaml in /home/sashka/detection_models_on_fisheye/.venv/lib/python3.12/site-packages (6.0.2)\n",
      "Requirement already satisfied: beautifulsoup4 in /home/sashka/detection_models_on_fisheye/.venv/lib/python3.12/site-packages (from gdown) (4.13.4)\n",
      "Requirement already satisfied: filelock in /home/sashka/detection_models_on_fisheye/.venv/lib/python3.12/site-packages (from gdown) (3.18.0)\n",
      "Requirement already satisfied: requests[socks] in /home/sashka/detection_models_on_fisheye/.venv/lib/python3.12/site-packages (from gdown) (2.32.3)\n",
      "Requirement already satisfied: tqdm in /home/sashka/detection_models_on_fisheye/.venv/lib/python3.12/site-packages (from gdown) (4.67.1)\n",
      "Requirement already satisfied: numpy>=1.19.5 in /home/sashka/detection_models_on_fisheye/.venv/lib/python3.12/site-packages (from scikit-learn) (1.26.4)\n",
      "Requirement already satisfied: scipy>=1.6.0 in /home/sashka/detection_models_on_fisheye/.venv/lib/python3.12/site-packages (from scikit-learn) (1.15.2)\n",
      "Requirement already satisfied: joblib>=1.2.0 in /home/sashka/detection_models_on_fisheye/.venv/lib/python3.12/site-packages (from scikit-learn) (1.4.2)\n",
      "Requirement already satisfied: threadpoolctl>=3.1.0 in /home/sashka/detection_models_on_fisheye/.venv/lib/python3.12/site-packages (from scikit-learn) (3.6.0)\n",
      "Requirement already satisfied: soupsieve>1.2 in /home/sashka/detection_models_on_fisheye/.venv/lib/python3.12/site-packages (from beautifulsoup4->gdown) (2.7)\n",
      "Requirement already satisfied: typing-extensions>=4.0.0 in /home/sashka/detection_models_on_fisheye/.venv/lib/python3.12/site-packages (from beautifulsoup4->gdown) (4.13.2)\n",
      "Requirement already satisfied: charset-normalizer<4,>=2 in /home/sashka/detection_models_on_fisheye/.venv/lib/python3.12/site-packages (from requests[socks]->gdown) (3.4.2)\n",
      "Requirement already satisfied: idna<4,>=2.5 in /home/sashka/detection_models_on_fisheye/.venv/lib/python3.12/site-packages (from requests[socks]->gdown) (3.10)\n",
      "Requirement already satisfied: urllib3<3,>=1.21.1 in /home/sashka/detection_models_on_fisheye/.venv/lib/python3.12/site-packages (from requests[socks]->gdown) (2.4.0)\n",
      "Requirement already satisfied: certifi>=2017.4.17 in /home/sashka/detection_models_on_fisheye/.venv/lib/python3.12/site-packages (from requests[socks]->gdown) (2025.4.26)\n",
      "Requirement already satisfied: PySocks!=1.5.7,>=1.5.6 in /home/sashka/detection_models_on_fisheye/.venv/lib/python3.12/site-packages (from requests[socks]->gdown) (1.7.1)\n"
     ]
    }
   ],
   "source": [
    "! pip install gdown scikit-learn pyyaml"
   ]
  },
  {
   "cell_type": "code",
   "execution_count": 2,
   "id": "0797fade",
   "metadata": {},
   "outputs": [],
   "source": [
    "import zipfile\n",
    "from pathlib import Path\n",
    "\n",
    "import gdown\n",
    "\n",
    "\n",
    "def download_from_google_drive(output: Path, file_id: str):\n",
    "    url = f\"https://drive.google.com/uc?id={file_id}\"\n",
    "    output_zip = output / \"archive.zip\"\n",
    "\n",
    "    gdown.download(url, str(output_zip), quiet=False)\n",
    "\n",
    "    with zipfile.ZipFile(output_zip, \"r\") as zip_ref:\n",
    "        zip_ref.extractall(output)\n",
    "\n",
    "    output_zip.unlink()"
   ]
  },
  {
   "cell_type": "code",
   "execution_count": 3,
   "id": "3150c361",
   "metadata": {},
   "outputs": [],
   "source": [
    "import os\n",
    "\n",
    "current_dir = Path(os.getcwd()).parent\n",
    "while not (current_dir / \"README.md\").exists():\n",
    "    current_dir = current_dir.parent\n",
    "    if current_dir == current_dir.parent:\n",
    "        raise FileNotFoundError(\"Project root not found!\")\n",
    "\n",
    "os.chdir(current_dir)"
   ]
  },
  {
   "cell_type": "code",
   "execution_count": 4,
   "id": "1944a177",
   "metadata": {},
   "outputs": [],
   "source": [
    "WOODSCAPE_PATH = Path(\"src/datasets/WoodScape\")\n",
    "\n",
    "IMAGES_FILE_ID = \"1xQ5J4huNmyK9WPoipHTnuZ7lw_J0xhvL\"\n",
    "ANNOTATIONS_FILE_ID = \"1k9q1k8rh6hghSPFdmxmkZUd_Mip6pt6F\""
   ]
  },
  {
   "cell_type": "code",
   "execution_count": null,
   "id": "3e2741bb",
   "metadata": {},
   "outputs": [],
   "source": [
    "download_from_google_drive(WOODSCAPE_PATH, IMAGES_FILE_ID)\n",
    "download_from_google_drive(WOODSCAPE_PATH, ANNOTATIONS_FILE_ID)"
   ]
  },
  {
   "cell_type": "code",
   "execution_count": 5,
   "id": "244fdaaa",
   "metadata": {},
   "outputs": [],
   "source": [
    "IMAGES_PATH = WOODSCAPE_PATH / \"rgb_images\"\n",
    "ANNOTATIONS_PATH = WOODSCAPE_PATH / \"instance_annotations\"\n",
    "CLASSINFO_PATH = WOODSCAPE_PATH / \"class_info.json\""
   ]
  },
  {
   "cell_type": "markdown",
   "id": "a295c16f",
   "metadata": {},
   "source": [
    "## **Convert Woodscape annotations to Ultralytics**"
   ]
  },
  {
   "cell_type": "code",
   "execution_count": 6,
   "id": "ed3cbeb8",
   "metadata": {},
   "outputs": [],
   "source": [
    "YOLO_ANNOTATIONS_PATH = WOODSCAPE_PATH / \"yolo_annotations\""
   ]
  },
  {
   "cell_type": "code",
   "execution_count": null,
   "id": "204542aa",
   "metadata": {},
   "outputs": [],
   "source": [
    "import shutil\n",
    "\n",
    "from src.models.train.convert import convert_Woodscape_to_Ultralytics\n",
    "\n",
    "convert_Woodscape_to_Ultralytics(\n",
    "    ANNOTATIONS_PATH, YOLO_ANNOTATIONS_PATH, CLASSINFO_PATH\n",
    ")"
   ]
  },
  {
   "cell_type": "markdown",
   "id": "5a35d15e",
   "metadata": {},
   "source": [
    "## **Split dataset**"
   ]
  },
  {
   "cell_type": "code",
   "execution_count": 7,
   "id": "f6650db8",
   "metadata": {},
   "outputs": [],
   "source": [
    "TRAIN_DATASET = WOODSCAPE_PATH / \"train_dataset\""
   ]
  },
  {
   "cell_type": "code",
   "execution_count": 12,
   "id": "ed7f3890",
   "metadata": {},
   "outputs": [],
   "source": [
    "from src.models.train.split_dataset import split_dataset\n",
    "\n",
    "split_dataset(IMAGES_PATH, YOLO_ANNOTATIONS_PATH, TRAIN_DATASET)"
   ]
  },
  {
   "cell_type": "markdown",
   "id": "b137378a",
   "metadata": {},
   "source": [
    "## **Create YAML file**"
   ]
  },
  {
   "cell_type": "code",
   "execution_count": 8,
   "id": "2ccf6d3b",
   "metadata": {},
   "outputs": [],
   "source": [
    "YAML_PATH = WOODSCAPE_PATH / \"woodscape.yaml\""
   ]
  },
  {
   "cell_type": "code",
   "execution_count": 9,
   "id": "8d1053b6",
   "metadata": {},
   "outputs": [],
   "source": [
    "import json\n",
    "\n",
    "import yaml\n",
    "\n",
    "with CLASSINFO_PATH.open(\"r\", encoding=\"utf-8\") as f:\n",
    "    CLASSES = json.load(f)[\"classes\"]\n",
    "\n",
    "data = {\n",
    "    \"path\": str(TRAIN_DATASET),\n",
    "    \"train\": \"images/train\",\n",
    "    \"val\": \"images/val\",\n",
    "    \"test\": \"images/test\",\n",
    "    \"nc\": len(CLASSES),\n",
    "    \"names\": CLASSES,\n",
    "    \"mask_ratio\": 2,\n",
    "    \"overlap_mask\": True,\n",
    "    \"preprocessing\": {\n",
    "        \"auto_augment\": \"none\",\n",
    "        \"erasing\": 0.0,\n",
    "        \"mosaic\": 0.5,\n",
    "        \"copy_paste\": 0.0,\n",
    "    },\n",
    "}\n",
    "\n",
    "with YAML_PATH.open(\"w\", encoding=\"utf-8\") as f:\n",
    "    yaml.dump(data, f, default_flow_style=False)"
   ]
  }
 ],
 "metadata": {
  "kernelspec": {
   "display_name": ".venv",
   "language": "python",
   "name": "python3"
  },
  "language_info": {
   "codemirror_mode": {
    "name": "ipython",
    "version": 3
   },
   "file_extension": ".py",
   "mimetype": "text/x-python",
   "name": "python",
   "nbconvert_exporter": "python",
   "pygments_lexer": "ipython3",
   "version": "3.12.3"
  }
 },
 "nbformat": 4,
 "nbformat_minor": 5
}
