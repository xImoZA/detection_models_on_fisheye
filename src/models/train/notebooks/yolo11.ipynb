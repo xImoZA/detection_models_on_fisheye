{
 "cells": [
  {
   "cell_type": "code",
   "execution_count": 1,
   "metadata": {},
   "outputs": [],
   "source": [
    "import os\n",
    "from pathlib import Path\n",
    "\n",
    "current_dir = Path(os.getcwd()).parent\n",
    "while not (current_dir / \"README.md\").exists():\n",
    "    current_dir = current_dir.parent\n",
    "    if current_dir == current_dir.parent:\n",
    "        raise FileNotFoundError(\"Project root not found!\")\n",
    "\n",
    "os.chdir(current_dir)"
   ]
  },
  {
   "cell_type": "markdown",
   "metadata": {
    "id": "blb2uprXzCkM"
   },
   "source": [
    "## **Dowload ultralytics**"
   ]
  },
  {
   "cell_type": "code",
   "execution_count": null,
   "metadata": {
    "execution": {
     "iopub.execute_input": "2025-05-01T19:51:09.812584Z",
     "iopub.status.busy": "2025-05-01T19:51:09.812276Z",
     "iopub.status.idle": "2025-05-01T19:51:35.160070Z",
     "shell.execute_reply": "2025-05-01T19:51:35.158946Z",
     "shell.execute_reply.started": "2025-05-01T19:51:09.812561Z"
    },
    "trusted": true
   },
   "outputs": [],
   "source": [
    "! pip install -U ultralytics wandb python-dotenv\n",
    "! yolo settings wandb=True"
   ]
  },
  {
   "cell_type": "markdown",
   "metadata": {},
   "source": [
    "## **Wandb**"
   ]
  },
  {
   "cell_type": "code",
   "execution_count": null,
   "metadata": {
    "execution": {
     "iopub.execute_input": "2025-05-01T19:51:38.895110Z",
     "iopub.status.busy": "2025-05-01T19:51:38.894793Z",
     "iopub.status.idle": "2025-05-01T19:51:46.453467Z",
     "shell.execute_reply": "2025-05-01T19:51:46.452757Z",
     "shell.execute_reply.started": "2025-05-01T19:51:38.895082Z"
    },
    "trusted": true
   },
   "outputs": [],
   "source": [
    "from dotenv import load_dotenv\n",
    "\n",
    "load_dotenv()\n",
    "wandb_api_key = os.getenv(\"WANDB_API_KEY\")"
   ]
  },
  {
   "cell_type": "markdown",
   "metadata": {},
   "source": [
    "## **Train**"
   ]
  },
  {
   "cell_type": "code",
   "execution_count": 10,
   "metadata": {},
   "outputs": [],
   "source": [
    "from src.models.train.train_config import YamlConfig\n",
    "\n",
    "config = YamlConfig(\"src/models/train/notebooks/configs/yolo11_config.yaml\")"
   ]
  },
  {
   "cell_type": "code",
   "execution_count": null,
   "metadata": {
    "execution": {
     "iopub.execute_input": "2025-03-27T18:46:43.624434Z",
     "iopub.status.busy": "2025-03-27T18:46:43.624028Z",
     "iopub.status.idle": "2025-03-27T18:47:10.977568Z",
     "shell.execute_reply": "2025-03-27T18:47:10.975940Z",
     "shell.execute_reply.started": "2025-03-27T18:46:43.624391Z"
    },
    "id": "v35rKV7r6A72",
    "outputId": "d93837e6-43e9-41b6-a09b-03bd2170fc01",
    "trusted": true
   },
   "outputs": [],
   "source": [
    "from ultralytics import YOLO\n",
    "\n",
    "model = YOLO(config.get_path_pretrained_weights())\n",
    "\n",
    "results = model.train(**config.get_train_params())"
   ]
  }
 ],
 "metadata": {
  "accelerator": "GPU",
  "colab": {
   "gpuType": "T4",
   "provenance": []
  },
  "kaggle": {
   "accelerator": "nvidiaTeslaT4",
   "dataSources": [
    {
     "datasetId": 6861872,
     "sourceId": 11641808,
     "sourceType": "datasetVersion"
    },
    {
     "datasetId": 6872497,
     "sourceId": 11648646,
     "sourceType": "datasetVersion"
    }
   ],
   "dockerImageVersionId": 30918,
   "isGpuEnabled": true,
   "isInternetEnabled": true,
   "language": "python",
   "sourceType": "notebook"
  },
  "kernelspec": {
   "display_name": ".venv",
   "language": "python",
   "name": "python3"
  },
  "language_info": {
   "codemirror_mode": {
    "name": "ipython",
    "version": 3
   },
   "file_extension": ".py",
   "mimetype": "text/x-python",
   "name": "python",
   "nbconvert_exporter": "python",
   "pygments_lexer": "ipython3",
   "version": "3.12.3"
  }
 },
 "nbformat": 4,
 "nbformat_minor": 4
}
